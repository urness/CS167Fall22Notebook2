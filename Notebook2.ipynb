{
  "nbformat": 4,
  "nbformat_minor": 0,
  "metadata": {
    "colab": {
      "provenance": [],
      "collapsed_sections": [],
      "include_colab_link": true
    },
    "kernelspec": {
      "name": "python3",
      "display_name": "Python 3"
    },
    "language_info": {
      "name": "python"
    }
  },
  "cells": [
    {
      "cell_type": "markdown",
      "metadata": {
        "id": "view-in-github",
        "colab_type": "text"
      },
      "source": [
        "<a href=\"https://colab.research.google.com/github/urness/CS167Fall22Notebook2/blob/main/Notebook2.ipynb\" target=\"_parent\"><img src=\"https://colab.research.google.com/assets/colab-badge.svg\" alt=\"Open In Colab\"/></a>"
      ]
    },
    {
      "cell_type": "markdown",
      "source": [
        "# Notebook #2: K Nearest Neighbors and Normalization\n",
        "**Name: your name here**\n",
        "\n",
        "**Due: 9/22 before class**\n",
        "\n",
        "## Load in the data:\n",
        "You'll notice that there are a lot of columns here. We're going to work with a subset of these columns, not the entire dataset."
      ],
      "metadata": {
        "id": "znLmB8BEzT9M"
      }
    },
    {
      "cell_type": "code",
      "execution_count": null,
      "metadata": {
        "id": "pEUiWYhVWPxa"
      },
      "outputs": [],
      "source": [
        "#selecting columns in dataframes\n",
        "import pandas as pd\n",
        "from google.colab import drive\n",
        "drive.mount('/content/drive')"
      ]
    },
    {
      "cell_type": "code",
      "source": [
        "#import the data:\n",
        "#make sure the path on the line below corresponds to the path where you put your dataset.\n",
        "spotify_data = pd.read_csv('/content/drive/MyDrive/CS167Fall22/Datasets/spotify_top_charts.csv')\n",
        "spotify_data.head()"
      ],
      "metadata": {
        "id": "eN3_rgW0Wa2R"
      },
      "execution_count": null,
      "outputs": []
    },
    {
      "cell_type": "markdown",
      "source": [
        "## Exercise #1: \n",
        "**Work with the right subset:**\n",
        "\n",
        "You're not going to work with the whole data set, just the 'artist_names', 'track_name', 'peak_rank', 'duration_ms' and 2-4 additional features of your choice. To start, make this subset of the original data. \n",
        "\n",
        "Display the first five rows of your new subset. Also display the number of rows and columns of your subset."
      ],
      "metadata": {
        "id": "OYCfn1aKzmJ5"
      }
    },
    {
      "cell_type": "markdown",
      "source": [
        "## Exercise #2:\n",
        "**Check for null values**: If you have a null target value ('peak_rank'), you will need to throw that example out. \n",
        "\n",
        "Replace each of the null values within your predictors with the average of the column.\n",
        "\n",
        "*hint: Useful functions here are `isna()`, `any()`, `fillna()`, `notna()` and `dropna()`. If you're not sure what these do, look them up in the [pandas documentation](https://pandas.pydata.org/docs/).*\n",
        "\n",
        "After you have eliminated null values, use `.isna().any()` to verify that your fields no longer contain any null values (all of the values should be False)."
      ],
      "metadata": {
        "id": "R0u87ioL0fHe"
      }
    },
    {
      "cell_type": "markdown",
      "source": [
        "## Exercise #3\n",
        "Write up a k-nearest-neighbors function like the one you made for the iris data set in class. It should be able to make peak rank predictions for new songs. You should also be able to specify what you want to use as k.\n",
        "\n",
        "You will need to incorporate the predictor features that you have chosen to be a part of your subset in your knn function (but not the artist_names nor track_name).\n",
        "\n",
        "Pay special attention that I want you to refer to the target variable 'peak_rank' as a value (not a category). Thus, you need to adapt the code to handle a regression."
      ],
      "metadata": {
        "id": "sqfJq7x6NnAh"
      }
    },
    {
      "cell_type": "markdown",
      "source": [
        "## Exercise #4\n",
        "Demonstrate that your function works by using the values from a song you recognize on the list. Pass in k=1 in to the funtion, and your algorithm should predict the exact peak_rank as your example song.\n",
        "\n",
        "Make up some new values for a hypothetical new song.  Use your knn function to display a predicted peak_rank for the song. In this case, use a k value that is greater than 1."
      ],
      "metadata": {
        "id": "FFuBeC2NPr-4"
      }
    },
    {
      "cell_type": "markdown",
      "source": [
        "## Exercise #5\n",
        "\n",
        "Make a copy of the data and normalize the training data using Z-score.\n",
        "\n",
        "*hint: `.copy()` will be useful here.* \n",
        "\n",
        "Print out the first 5 lines of the normalized subset.\n",
        "\n",
        "Predict the peak rank with some input parameters using your k-nearest-neighbors function with both the normalized and non-normalized training data. Compare your results. Use a markup cell to describe and explain the cause of any differences. Detailed responses will receive full credit."
      ],
      "metadata": {
        "id": "nHlrwIayROe6"
      }
    }
  ]
}