{
  "nbformat": 4,
  "nbformat_minor": 0,
  "metadata": {
    "colab": {
      "name": "Notebook2.ipynb",
      "provenance": [],
      "collapsed_sections": [],
      "authorship_tag": "ABX9TyP7rgGIGjhdLZLgtwudCZmU",
      "include_colab_link": true
    },
    "kernelspec": {
      "name": "python3",
      "display_name": "Python 3"
    },
    "language_info": {
      "name": "python"
    }
  },
  "cells": [
    {
      "cell_type": "markdown",
      "metadata": {
        "id": "view-in-github",
        "colab_type": "text"
      },
      "source": [
        "<a href=\"https://colab.research.google.com/github/urness/CS167Notebook2/blob/main/Notebook2.ipynb\" target=\"_parent\"><img src=\"https://colab.research.google.com/assets/colab-badge.svg\" alt=\"Open In Colab\"/></a>"
      ]
    },
    {
      "cell_type": "markdown",
      "source": [
        "# Notebook #2: K Nearest Neighbors and Normalization\n",
        "**Name: your name here**\n",
        "\n",
        "\n",
        "## Load in the data:\n",
        "You'll notice that there are a lot of columns here. We're going to work with a subset of these columns, not the entire dataset."
      ],
      "metadata": {
        "id": "znLmB8BEzT9M"
      }
    },
    {
      "cell_type": "code",
      "execution_count": null,
      "metadata": {
        "id": "pEUiWYhVWPxa"
      },
      "outputs": [],
      "source": [
        "import pandas\n",
        "import numpy\n",
        "from google.colab import drive \n",
        "drive.mount('/content/drive')\n"
      ]
    },
    {
      "cell_type": "code",
      "source": [
        "data = pandas.read_csv('/content/drive/MyDrive/CS167Spring22/datasets/LifeExpectancyData.csv')\n",
        "data.head()"
      ],
      "metadata": {
        "id": "BH2QSsCHD9Iz"
      },
      "execution_count": null,
      "outputs": []
    },
    {
      "cell_type": "markdown",
      "source": [
        "## Exercise #1: \n",
        "**Work with the right subset**: \n",
        "\n",
        "You're not going to work with the whole data set, just the 'Status', 'Life expectancy' and 3-5 additional features of your choice. To start, make this subset of the original data. Also, make sure your subset contains only countries with the 'Status' feature as **Developing**.\n",
        "\n",
        "*hint: your initial subset should have between 2,000 and 2,500 rows.*"
      ],
      "metadata": {
        "id": "OYCfn1aKzmJ5"
      }
    },
    {
      "cell_type": "markdown",
      "source": [
        "## Exercise #2:\n",
        "**Check for null values**: If you have a null target value ('Life expectancy'), you will need to throw that example out. \n",
        "\n",
        "Replace each of the null values within your predictors with the average of the column.\n",
        "\n",
        "*hint: Useful functions here are `isna()`, `any()`, `fillna()`, `value_counts()` and `dropna()`. If you're not sure what these do, look them up in the [pandas documentation](https://pandas.pydata.org/docs/).*\n",
        "\n",
        "After you have eliminated null values, use `.isna().any()` to verify that your fields no longer contain any null values (all of the values should be False). "
      ],
      "metadata": {
        "id": "R0u87ioL0fHe"
      }
    },
    {
      "cell_type": "markdown",
      "source": [
        "## Exercise #3\n",
        "Write up a k-nearest-neighbors function like the one you made for the iris data set in class. It should be able to make life expectancy predictions for new countries. You should also be able to specify what you want to use as k.\n",
        "\n",
        "You will need to incorporate the predictor features that you have chosen to be a part of your subset in your knn function.\n",
        "\n",
        "Pay special attention to whether this problem is a classification or a regression, and how the answer to that question may change the output of your model. "
      ],
      "metadata": {
        "id": "BKlHFlGP1OLG"
      }
    },
    {
      "cell_type": "markdown",
      "source": [
        "## Exercise #4\n",
        "Demonstrate that your function works by making up some new values for hypothetical countries and using your function to display the predicted life expectancy for that country.\n"
      ],
      "metadata": {
        "id": "B9UXCYtC1pOP"
      }
    },
    {
      "cell_type": "markdown",
      "source": [
        "## Exercise #5\n",
        "\n",
        "Make a copy of the data and normalize the training data using Z-score.\n",
        "\n",
        "*hint: `.copy()` will be useful here.* \n",
        "\n",
        "Predict the life expectancy with some input parameters using your k-nearest-neighbors function with both the normalized and non-normalized training data. Compare your results. Use a markup cell to describe and explain the differences in a few sentences."
      ],
      "metadata": {
        "id": "91OfntId3DsF"
      }
    }
  ]
}